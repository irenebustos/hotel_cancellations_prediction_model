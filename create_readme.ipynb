{
 "cells": [
  {
   "cell_type": "markdown",
   "metadata": {},
   "source": [
    "Readme generation from notebook"
   ]
  },
  {
   "cell_type": "code",
   "execution_count": 12,
   "metadata": {},
   "outputs": [],
   "source": [
    "import nbformat\n",
    "\n",
    "# Function to extract comments from a notebook with custom markers\n",
    "def extract_comments_from_notebook(notebook_path):\n",
    "    with open(notebook_path, 'r', encoding='utf-8') as f:\n",
    "        notebook = nbformat.read(f, as_version=4)\n",
    "\n",
    "    readme_content = \"# README\\n\\nThis README was generated automatically from the notebook.\\n\\n\"\n",
    "\n",
    "    # Iterate through notebook cells\n",
    "    for cell in notebook.cells:\n",
    "        if cell.cell_type == 'code':  # For code cells\n",
    "            code = cell.source\n",
    "            comments_to_include = [\n",
    "                line.strip() for line in code.splitlines() \n",
    "                if line.strip().startswith(\"# README_INCLUDE\")\n",
    "            ]\n",
    "            if comments_to_include:\n",
    "                readme_content += \"## Comments from Code Cells\\n\"\n",
    "                readme_content += \"\\n\".join(comments_to_include) + \"\\n\\n\"\n",
    "\n",
    "        elif cell.cell_type == 'markdown':  # For markdown cells\n",
    "            markdown = cell.source.strip()\n",
    "            # Check if the markdown contains the special marker for inclusion\n",
    "            if \"<!-- README_INCLUDE -->\" in markdown:\n",
    "                readme_content += \"## Markdown Documentation\\n\"\n",
    "                readme_content += markdown.replace(\"<!-- README_INCLUDE -->\", \"\").strip() + \"\\n\\n\"\n",
    "\n",
    "    return readme_content\n",
    "\n",
    "# Function to write README to a file\n",
    "def write_readme(content, output_path):\n",
    "    with open(output_path, 'w', encoding='utf-8') as f:\n",
    "        f.write(content)\n",
    "\n",
    "# Usage Example\n",
    "notebook_path = '/Users/irene/Library/CloudStorage/OneDrive-Personal/Github/machine_learning_zoomcamp/capstone1/notebook.ipynb'\n",
    "readme_content = extract_comments_from_notebook(notebook_path)\n",
    "write_readme(readme_content, 'README.md')\n"
   ]
  }
 ],
 "metadata": {
  "kernelspec": {
   "display_name": "ml-zoomcamp39",
   "language": "python",
   "name": "python3"
  },
  "language_info": {
   "codemirror_mode": {
    "name": "ipython",
    "version": 3
   },
   "file_extension": ".py",
   "mimetype": "text/x-python",
   "name": "python",
   "nbconvert_exporter": "python",
   "pygments_lexer": "ipython3",
   "version": "3.9.16"
  }
 },
 "nbformat": 4,
 "nbformat_minor": 2
}
