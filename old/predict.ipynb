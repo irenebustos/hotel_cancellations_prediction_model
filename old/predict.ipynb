{
    "cells": [
        {
            "cell_type": "code",
            "execution_count": 8,
            "metadata": {},
            "outputs": [
                {
                    "name": "stdout",
                    "output_type": "stream",
                    "text": [
                        " * Serving Flask app 'cancellation_prediction'\n",
                        " * Debug mode: on\n"
                    ]
                },
                {
                    "name": "stderr",
                    "output_type": "stream",
                    "text": [
                        "\u001b[31m\u001b[1mWARNING: This is a development server. Do not use it in a production deployment. Use a production WSGI server instead.\u001b[0m\n",
                        " * Running on all addresses (0.0.0.0)\n",
                        " * Running on http://127.0.0.1:9696\n",
                        " * Running on http://192.168.1.34:9696\n",
                        "\u001b[33mPress CTRL+C to quit\u001b[0m\n",
                        " * Restarting with stat\n",
                        "Traceback (most recent call last):\n",
                        "  File \"/opt/anaconda3/envs/ml-zoomcamp39/lib/python3.9/site-packages/ipykernel_launcher.py\", line 18, in <module>\n",
                        "    app.launch_new_instance()\n",
                        "  File \"/opt/anaconda3/envs/ml-zoomcamp39/lib/python3.9/site-packages/traitlets/config/application.py\", line 1074, in launch_instance\n",
                        "    app.initialize(argv)\n",
                        "  File \"/opt/anaconda3/envs/ml-zoomcamp39/lib/python3.9/site-packages/traitlets/config/application.py\", line 118, in inner\n",
                        "    return method(app, *args, **kwargs)\n",
                        "  File \"/opt/anaconda3/envs/ml-zoomcamp39/lib/python3.9/site-packages/ipykernel/kernelapp.py\", line 692, in initialize\n",
                        "    self.init_sockets()\n",
                        "  File \"/opt/anaconda3/envs/ml-zoomcamp39/lib/python3.9/site-packages/ipykernel/kernelapp.py\", line 331, in init_sockets\n",
                        "    self.shell_port = self._bind_socket(self.shell_socket, self.shell_port)\n",
                        "  File \"/opt/anaconda3/envs/ml-zoomcamp39/lib/python3.9/site-packages/ipykernel/kernelapp.py\", line 253, in _bind_socket\n",
                        "    return self._try_bind_socket(s, port)\n",
                        "  File \"/opt/anaconda3/envs/ml-zoomcamp39/lib/python3.9/site-packages/ipykernel/kernelapp.py\", line 229, in _try_bind_socket\n",
                        "    s.bind(\"tcp://%s:%i\" % (self.ip, port))\n",
                        "  File \"/opt/anaconda3/envs/ml-zoomcamp39/lib/python3.9/site-packages/zmq/sugar/socket.py\", line 302, in bind\n",
                        "    super().bind(addr)\n",
                        "  File \"zmq/backend/cython/socket.pyx\", line 564, in zmq.backend.cython.socket.Socket.bind\n",
                        "  File \"zmq/backend/cython/checkrc.pxd\", line 28, in zmq.backend.cython.checkrc._check_rc\n",
                        "zmq.error.ZMQError: Address already in use (addr='tcp://127.0.0.1:9017')\n"
                    ]
                },
                {
                    "ename": "SystemExit",
                    "evalue": "1",
                    "output_type": "error",
                    "traceback": [
                        "An exception has occurred, use %tb to see the full traceback.\n",
                        "\u001b[0;31mSystemExit\u001b[0m\u001b[0;31m:\u001b[0m 1\n"
                    ]
                }
            ],
            "source": [
                "import pickle\n",
                "from flask import Flask, request, jsonify\n",
                "import xgboost as xgb\n",
                "\n",
                "# Load the model and DictVectorizer\n",
                "model_file = 'xgboost_model_booking_cancellation_smote.bin'\n",
                "\n",
                "with open(model_file, 'rb') as f_in:\n",
                "    dv, model = pickle.load(f_in)\n",
                "\n",
                "app = Flask('cancellation_prediction')\n",
                "\n",
                "@app.route('/predict', methods=['POST'])\n",
                "\n",
                "def predict():\n",
                "    # Get the input data as JSON\n",
                "    input_data = request.get_json()\n",
                "    \n",
                "    # Transform the input data using DictVectorizer\n",
                "    X = dv.transform([input_data])\n",
                "    features = list(dv.get_feature_names_out())\n",
                "    \n",
                "    # Create a DMatrix for prediction\n",
                "    dmatrix = xgb.DMatrix(X, feature_names=features)\n",
                "    \n",
                "    # Predict days in shelter\n",
                "    y_pred = model.predict(dmatrix)[0]\n",
                "    \n",
                "    result = {\n",
                "        'predict_cancellation_booking': (y_pred)\n",
                "    }\n",
                "    \n",
                "    # Return the result as JSON\n",
                "    return jsonify(result)\n",
                "\n",
                "if __name__ == '__main__':\n",
                "    app.run(debug=True, host='0.0.0.0', port=9696)"
            ]
        }
    ],
    "metadata": {
        "kernelspec": {
            "display_name": "ml-zoomcamp39",
            "language": "python",
            "name": "python3"
        },
        "language_info": {
            "codemirror_mode": {
                "name": "ipython",
                "version": 3
            },
            "file_extension": ".py",
            "mimetype": "text/x-python",
            "name": "python",
            "nbconvert_exporter": "python",
            "pygments_lexer": "ipython3",
            "version": "3.9.16"
        }
    },
    "nbformat": 4,
    "nbformat_minor": 2
}
