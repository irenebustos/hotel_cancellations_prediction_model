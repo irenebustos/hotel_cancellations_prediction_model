{
    "cells": [
        {
            "cell_type": "markdown",
            "metadata": {},
            "source": [
                "# Hotel reservations cancellations prediction"
            ]
        },
        {
            "cell_type": "code",
            "execution_count": 492,
            "metadata": {},
            "outputs": [],
            "source": [
                "# Standard library imports\n",
                "import os\n",
                "import zipfile\n",
                "\n",
                "# Numerical and data manipulation libraries\n",
                "import numpy as np\n",
                "import pandas as pd\n",
                "\n",
                "# Plotting and visualization\n",
                "import matplotlib.pyplot as plt\n",
                "import seaborn as sns\n",
                "\n",
                "# Machine learning libraries\n",
                "import xgboost as xgb\n",
                "from sklearn.model_selection import train_test_split\n",
                "from sklearn.feature_extraction import DictVectorizer\n",
                "from sklearn.preprocessing import StandardScaler\n",
                "\n",
                "# Metrics for model evaluation\n",
                "from sklearn.metrics import (\n",
                "    accuracy_score, precision_score, recall_score, f1_score, roc_auc_score, roc_curve\n",
                ")\n",
                "\n",
                "# Imbalanced data handling\n",
                "from imblearn.over_sampling import SMOTE, RandomOverSampler\n"
            ]
        },
        {
            "cell_type": "code",
            "execution_count": 493,
            "metadata": {},
            "outputs": [],
            "source": [
                "df = pd.read_csv('hotel_reservations.csv')\n"
            ]
        },
        {
            "cell_type": "markdown",
            "metadata": {},
            "source": [
                "<!-- README_INCLUDE -->\n",
                "The database used for the model consists in a set of bookings from a hotel with a unique id called ¨boooking_id¨ from 2017 and 2018."
            ]
        },
        {
            "cell_type": "markdown",
            "metadata": {},
            "source": [
                "## 1. Data Preparation"
            ]
        },
        {
            "cell_type": "markdown",
            "metadata": {},
            "source": [
                "Convert all column values into lower case and replace spaces"
            ]
        },
        {
            "cell_type": "code",
            "execution_count": 494,
            "metadata": {},
            "outputs": [],
            "source": [
                "df.columns = df.columns.str.lower().str.replace(' ', '_')\n",
                "\n",
                "categorical_columns = list(df.dtypes[df.dtypes == 'object'].index)\n",
                "\n",
                "for c in categorical_columns:\n",
                "    df[c] = df[c].str.lower().str.replace(' ', '_')"
            ]
        },
        {
            "cell_type": "code",
            "execution_count": 498,
            "metadata": {},
            "outputs": [
                {
                    "data": {
                        "text/plain": [
                            "total_people\n",
                            "2     23942\n",
                            "1      7552\n",
                            "3      3851\n",
                            "4       912\n",
                            "5        15\n",
                            "12        1\n",
                            "10        1\n",
                            "11        1\n",
                            "Name: count, dtype: int64"
                        ]
                    },
                    "execution_count": 498,
                    "metadata": {},
                    "output_type": "execute_result"
                }
            ],
            "source": [
                "df['total_people']  = df['no_of_adults'] + df['no_of_children']\n",
                "df['total_people'] .value_counts()"
            ]
        },
        {
            "cell_type": "code",
            "execution_count": 500,
            "metadata": {},
            "outputs": [],
            "source": [
                "df['price_per_adult'] = df['avg_price_per_room'] // df['no_of_adults']"
            ]
        },
        {
            "cell_type": "code",
            "execution_count": 501,
            "metadata": {},
            "outputs": [],
            "source": [
                "df['price_per_person']  = df['avg_price_per_room'] // df['total_people']"
            ]
        },
        {
            "cell_type": "code",
            "execution_count": 502,
            "metadata": {},
            "outputs": [],
            "source": [
                "df['has_prev_cancellations'] = df['no_of_previous_cancellations'] > 0"
            ]
        },
        {
            "cell_type": "code",
            "execution_count": 503,
            "metadata": {},
            "outputs": [],
            "source": [
                "df['has_prev_bookings_not_cancelled'] = df['no_of_previous_bookings_not_canceled'] > 0"
            ]
        },
        {
            "cell_type": "code",
            "execution_count": 504,
            "metadata": {},
            "outputs": [],
            "source": [
                "df['total_nights'] = df['no_of_weekend_nights'] + df['no_of_week_nights']"
            ]
        },
        {
            "cell_type": "code",
            "execution_count": 505,
            "metadata": {},
            "outputs": [],
            "source": [
                "df['have_children'] = df['no_of_children'] > 0"
            ]
        },
        {
            "cell_type": "code",
            "execution_count": null,
            "metadata": {},
            "outputs": [
                {
                    "data": {
                        "text/plain": [
                            "have_children\n",
                            "0    33577\n",
                            "1     2695\n",
                            "Name: count, dtype: int64"
                        ]
                    },
                    "execution_count": 451,
                    "metadata": {},
                    "output_type": "execute_result"
                }
            ],
            "source": [
                "df['have_children'] = df['have_children'].astype('int')\n",
                "df['have_children'].value_counts()"
            ]
        },
        {
            "cell_type": "markdown",
            "metadata": {},
            "source": [
                "## 3. Feature selection and model preparation"
            ]
        },
        {
            "cell_type": "markdown",
            "metadata": {},
            "source": [
                "<!-- README INCLUDE-->\n",
                "For the model the features used for testing the model would be: \n",
                "- 'no_of_weekend_nights'\n",
                "- 'no_of_week_nights'\n",
                "- 'type_of_meal_plan'\n",
                "- 'required_car_parking_space'\n",
                "- 'room_type_reserved'\n",
                "- 'lead_time'\n",
                "- 'arrival_month'\n",
                "- 'market_segment_type'\n",
                "- 'repeated_guest'\n",
                "- 'avg_price_per_room'\n",
                "- 'no_of_special_requests'\n",
                "- 'total_people'\n",
                "- 'total_nights'\n",
                "- 'have_children', \n",
                "- 'wday'\n",
                "\n",
                "This columns are dropped: 'booking_id','no_of_previous_cancellations','arrival_year','arrival_date','no_of_previous_cancellations', 'no_of_previous_bookings_not_canceled','has_prev_cancellations', 'has_prev_bookings_not_cancelled','segment_days_week','arrival_date_complete', 'month_year', 'no_of_children', 'no_of_adults','price_per_adult', 'price_per_person'\n",
                "\n",
                "Target output: 'booking_status' as booking_cancelled_flag, 1 when is cancelled and 0 if not"
            ]
        },
        {
            "cell_type": "code",
            "execution_count": null,
            "metadata": {},
            "outputs": [
                {
                    "name": "stderr",
                    "output_type": "stream",
                    "text": [
                        "/var/folders/pz/bvpq88x94b1c7g8rq2gf4j3r0000gn/T/ipykernel_45704/572328297.py:7: FutureWarning: Downcasting behavior in `replace` is deprecated and will be removed in a future version. To retain the old behavior, explicitly call `result.infer_objects(copy=False)`. To opt-in to the future behavior, set `pd.set_option('future.no_silent_downcasting', True)`\n"
                    ]
                },
                {
                    "data": {
                        "text/plain": [
                            "Index(['no_of_adults', 'no_of_weekend_nights', 'no_of_week_nights',\n",
                            "       'type_of_meal_plan', 'required_car_parking_space', 'room_type_reserved',\n",
                            "       'lead_time', 'arrival_month', 'market_segment_type', 'repeated_guest',\n",
                            "       'avg_price_per_room', 'no_of_special_requests', 'price_per_person',\n",
                            "       'total_nights', 'have_children', 'wday', 'booking_cancelled_flag'],\n",
                            "      dtype='object')"
                        ]
                    },
                    "execution_count": 449,
                    "metadata": {},
                    "output_type": "execute_result"
                }
            ],
            "source": [
                "# from df dropping 'booking_id','no_of_previous_cancellations','arrival_year','arrival_date','no_of_previous_cancellations', 'no_of_previous_bookings_not_canceled','has_prev_cancellations', 'has_prev_bookings_not_cancelled','segment_days_week','arrival_date_complete', 'month_year', 'no_of_children', 'no_of_adults','price_per_adult', 'price_per_person'\n",
                "df = df.drop(['booking_id','no_of_previous_cancellations','arrival_date','no_of_previous_cancellations', 'arrival_year',\n",
                "              'no_of_previous_bookings_not_canceled','has_prev_cancellations', 'has_prev_bookings_not_cancelled',\n",
                "              'segment_days_week','arrival_date_complete', 'month_year', 'price_per_adult','no_of_children' ,'total_people'], axis=1)\n",
                "\n",
                "# change booking_status to 0 and 1\n",
                "df['booking_cancelled_flag'] = df['booking_status'].replace({'canceled': 1, 'not_canceled': 0})\n",
                "\n",
                "# drop booking_status\n",
                "df = df.drop(['booking_status'], axis=1)\n",
                "\n",
                "df.columns"
            ]
        },
        {
            "cell_type": "markdown",
            "metadata": {},
            "source": [
                "have children change from bool to 1-0\n"
            ]
        },
        {
            "cell_type": "code",
            "execution_count": null,
            "metadata": {},
            "outputs": [
                {
                    "data": {
                        "text/plain": [
                            "arrival_month\n",
                            "10    5316\n",
                            "9     4611\n",
                            "8     3812\n",
                            "6     3203\n",
                            "12    3021\n",
                            "11    2980\n",
                            "7     2920\n",
                            "4     2736\n",
                            "5     2598\n",
                            "3     2358\n",
                            "2     1704\n",
                            "1     1013\n",
                            "Name: count, dtype: int64"
                        ]
                    },
                    "execution_count": 452,
                    "metadata": {},
                    "output_type": "execute_result"
                }
            ],
            "source": [
                "# from arrival month in date to number\n",
                "df['arrival_month'] = df['arrival_month'].astype('int')\n",
                "df['arrival_month'].value_counts()"
            ]
        },
        {
            "cell_type": "markdown",
            "metadata": {},
            "source": [
                "## 4. Train test split"
            ]
        },
        {
            "cell_type": "code",
            "execution_count": null,
            "metadata": {},
            "outputs": [],
            "source": [
                "categorical= ['type_of_meal_plan', 'room_type_reserved', 'market_segment_type', 'wday']\n",
                "numerical = ['no_of_weekend_nights', 'no_of_week_nights', 'required_car_parking_space', 'lead_time', 'repeated_guest',  'price_per_person',\n",
                "        'avg_price_per_room', 'no_of_special_requests','total_nights', 'arrival_month', \n",
                "              'no_of_adults', 'have_children']"
            ]
        },
        {
            "cell_type": "code",
            "execution_count": null,
            "metadata": {},
            "outputs": [],
            "source": [
                "# df = df.reset_index(drop=True, inplace=True)"
            ]
        },
        {
            "cell_type": "code",
            "execution_count": null,
            "metadata": {},
            "outputs": [
                {
                    "name": "stdout",
                    "output_type": "stream",
                    "text": [
                        "29017 7255\n",
                        "21762 7255 7255\n"
                    ]
                }
            ],
            "source": [
                "df_full_train, df_test = train_test_split(df, test_size=0.2, random_state=1, stratify=df['booking_cancelled_flag'])\n",
                "print(len(df_full_train), len(df_test))\n",
                "\n",
                "df_train, df_val = train_test_split(df_full_train, test_size=0.25, random_state=1, stratify=df_full_train['booking_cancelled_flag'])\n",
                "print(len(df_train), len(df_val), len(df_test))\n",
                "\n",
                "df_train = df_train.reset_index(drop=True)\n",
                "df_val = df_val.reset_index(drop=True)\n",
                "df_test = df_test.reset_index(drop=True)\n",
                "\n",
                "y_train = df_train.booking_cancelled_flag.values\n",
                "y_val = df_val.booking_cancelled_flag.values\n",
                "y_test = df_test.booking_cancelled_flag.values\n",
                "\n",
                "del df_train['booking_cancelled_flag']\n",
                "del df_val['booking_cancelled_flag']\n",
                "del df_test['booking_cancelled_flag']\n"
            ]
        },
        {
            "cell_type": "code",
            "execution_count": null,
            "metadata": {},
            "outputs": [],
            "source": [
                "dv = DictVectorizer(sparse=False)\n",
                "\n",
                "train_dict = df_train[categorical + numerical].to_dict(orient='records')\n",
                "X_train = dv.fit_transform(train_dict) # fit_transform is used to learn the transformation and then apply it to the data\n",
                "\n",
                "val_dict = df_val[categorical + numerical].to_dict(orient='records')\n",
                "X_val = dv.transform(val_dict)\n",
                "\n",
                "test_dict = df_test[categorical + numerical].to_dict(orient='records')\n",
                "X_test = dv.transform(test_dict)\n"
            ]
        },
        {
            "cell_type": "markdown",
            "metadata": {},
            "source": [
                "## 6. Balancing the dataset"
            ]
        },
        {
            "cell_type": "code",
            "execution_count": null,
            "metadata": {},
            "outputs": [],
            "source": [
                "# Combine features and target into a single DataFrame for undersampling\n",
                "X_train_df = pd.DataFrame(X_train, columns=dv.get_feature_names_out())\n",
                "train_data = pd.concat([X_train_df, pd.Series(y_train, name='booking_cancelled_flag')], axis=1)"
            ]
        },
        {
            "cell_type": "markdown",
            "metadata": {},
            "source": [
                "Trying to undersample to make it balanced by reducing the number of not cancelled bookings"
            ]
        },
        {
            "cell_type": "markdown",
            "metadata": {},
            "source": [
                "### SMOTE (Synthetic Minority Oversampling Technique): all over sample\n",
                "\n",
                "Creates synthetic samples by interpolating between existing minority class samples.\n",
                "Efficiency: Effective at generating diverse synthetic samples.\n",
                "Works well with numerical data.\n",
                "Downside: Can introduce noise or outliers if the data has overlapping classes.\n"
            ]
        },
        {
            "cell_type": "code",
            "execution_count": null,
            "metadata": {},
            "outputs": [
                {
                    "name": "stderr",
                    "output_type": "stream",
                    "text": [
                        "/opt/anaconda3/envs/ml-zoomcamp39/lib/python3.9/site-packages/sklearn/base.py:474: FutureWarning: `BaseEstimator._validate_data` is deprecated in 1.6 and will be removed in 1.7. Use `sklearn.utils.validation.validate_data` instead. This function becomes public and is part of the scikit-learn developer API.\n",
                        "/opt/anaconda3/envs/ml-zoomcamp39/lib/python3.9/site-packages/sklearn/utils/_tags.py:354: FutureWarning: The SMOTE or classes from which it inherits use `_get_tags` and `_more_tags`. Please define the `__sklearn_tags__` method, or inherit from `sklearn.base.BaseEstimator` and/or other appropriate mixins such as `sklearn.base.TransformerMixin`, `sklearn.base.ClassifierMixin`, `sklearn.base.RegressorMixin`, and `sklearn.base.OutlierMixin`. From scikit-learn 1.7, not defining `__sklearn_tags__` will raise an error.\n"
                    ]
                },
                {
                    "name": "stdout",
                    "output_type": "stream",
                    "text": [
                        "Accuracy: 76.47%\n",
                        "Precision: 61.17%\n",
                        "Recall: 77.20%\n",
                        "F1 Score: 68.25%\n",
                        "ROC AUC Score: 85.15%\n"
                    ]
                },
                {
                    "name": "stderr",
                    "output_type": "stream",
                    "text": [
                        "/opt/anaconda3/envs/ml-zoomcamp39/lib/python3.9/site-packages/sklearn/linear_model/_logistic.py:465: ConvergenceWarning: lbfgs failed to converge (status=1):\n",
                        "STOP: TOTAL NO. of ITERATIONS REACHED LIMIT.\n",
                        "\n",
                        "Increase the number of iterations (max_iter) or scale the data as shown in:\n",
                        "    https://scikit-learn.org/stable/modules/preprocessing.html\n",
                        "Please also refer to the documentation for alternative solver options:\n",
                        "    https://scikit-learn.org/stable/modules/linear_model.html#logistic-regression\n",
                        "/opt/anaconda3/envs/ml-zoomcamp39/lib/python3.9/site-packages/sklearn/utils/validation.py:2739: UserWarning: X does not have valid feature names, but LogisticRegression was fitted with feature names\n"
                    ]
                }
            ],
            "source": [
                "smote1 = SMOTE(random_state=42, sampling_strategy=1)\n",
                "X_resampled_smote1, y_resampled_smote1 = smote1.fit_resample(train_data.drop(columns='booking_cancelled_flag'), train_data['booking_cancelled_flag'])\n"
            ]
        },
        {
            "cell_type": "markdown",
            "metadata": {},
            "source": [
                "## 7. Model"
            ]
        },
        {
            "cell_type": "code",
            "execution_count": null,
            "metadata": {},
            "outputs": [
                {
                    "name": "stderr",
                    "output_type": "stream",
                    "text": [
                        "/opt/anaconda3/envs/ml-zoomcamp39/lib/python3.9/site-packages/sklearn/base.py:474: FutureWarning: `BaseEstimator._validate_data` is deprecated in 1.6 and will be removed in 1.7. Use `sklearn.utils.validation.validate_data` instead. This function becomes public and is part of the scikit-learn developer API.\n",
                        "/opt/anaconda3/envs/ml-zoomcamp39/lib/python3.9/site-packages/sklearn/utils/_tags.py:354: FutureWarning: The SMOTE or classes from which it inherits use `_get_tags` and `_more_tags`. Please define the `__sklearn_tags__` method, or inherit from `sklearn.base.BaseEstimator` and/or other appropriate mixins such as `sklearn.base.TransformerMixin`, `sklearn.base.ClassifierMixin`, `sklearn.base.RegressorMixin`, and `sklearn.base.OutlierMixin`. From scikit-learn 1.7, not defining `__sklearn_tags__` will raise an error.\n"
                    ]
                },
                {
                    "name": "stdout",
                    "output_type": "stream",
                    "text": [
                        "Accuracy: 89.70%\n",
                        "Precision: 86.61%\n",
                        "Recall: 81.11%\n",
                        "F1 Score: 83.77%\n",
                        "ROC AUC Score: 95.78%\n"
                    ]
                }
            ],
            "source": [
                "features = list(dv.get_feature_names_out())\n",
                "X_full_train = dv.transform(df_full_train[categorical + numerical].to_dict(orient='records'))\n",
                "y_full_train = df_full_train.booking_cancelled_flag.values\n",
                "\n",
                "X_train_df = pd.DataFrame(X_full_train, columns=dv.get_feature_names_out())\n",
                "train_data = pd.concat([X_train_df, pd.Series(y_full_train, name='booking_cancelled_flag')], axis=1)\n",
                "\n",
                "smote1 = SMOTE(random_state=42, sampling_strategy=1)\n",
                "X_resampled_smote1, y_resampled_smote1 = smote1.fit_resample(train_data.drop(columns='booking_cancelled_flag'), train_data['booking_cancelled_flag'])\n",
                "\n",
                "# Train the XGBoost model on the resampled data\n",
                "dtrain = xgb.DMatrix(X_resampled_smote1, label=y_resampled_smote1, feature_names=features)\n",
                "dtest = xgb.DMatrix(X_test, label=y_test, feature_names=features)\n",
                "\n",
                "best_params = {\n",
                "    'eta': 0.1,\n",
                "    'max_depth': 12,\n",
                "    'min_child_weight': 1,\n",
                "    'objective': 'binary:logistic',\n",
                "    'nthread': 8,\n",
                "    'seed': 1,\n",
                "    'verbosity': 1\n",
                "}\n",
                "model = xgb.train(best_params, dtrain, num_boost_round=200)\n",
                "\n",
                "y_pred_p_test = model.predict(dtest)\n",
                "\n",
                "y_pred_test = (y_pred_p_test >= 0.5).astype(int)\n",
                "\n",
                "accuracy_xgb_test = accuracy_score(y_test, y_pred_test)\n",
                "precision_xgb_test = precision_score(y_test, y_pred_test)\n",
                "recall_xgb_test = recall_score(y_test, y_pred_test)\n",
                "f1_xgb_test = f1_score(y_test, y_pred_test)\n",
                "roc_auc_xgb_test = roc_auc_score(y_test, y_pred_p_test)\n",
                "\n",
                "print(f'Accuracy: {accuracy_xgb_test * 100:.2f}%')\n",
                "print(f'Precision: {precision_xgb_test * 100:.2f}%')\n",
                "print(f'Recall: {recall_xgb_test * 100:.2f}%')\n",
                "print(f'F1 Score: {f1_xgb_test * 100:.2f}%')\n",
                "print(f'ROC AUC Score: {roc_auc_xgb_test * 100:.2f}%')\n",
                "\n",
                "\n"
            ]
        }
    ],
    "metadata": {
        "kernelspec": {
            "display_name": "ml-zoomcamp39",
            "language": "python",
            "name": "python3"
        },
        "language_info": {
            "codemirror_mode": {
                "name": "ipython",
                "version": 3
            },
            "file_extension": ".py",
            "mimetype": "text/x-python",
            "name": "python",
            "nbconvert_exporter": "python",
            "pygments_lexer": "ipython3",
            "version": "3.9.16"
        }
    },
    "nbformat": 4,
    "nbformat_minor": 2
}
