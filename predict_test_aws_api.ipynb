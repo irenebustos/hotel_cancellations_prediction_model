{
 "cells": [
  {
   "cell_type": "code",
   "execution_count": 1,
   "metadata": {},
   "outputs": [],
   "source": [
    "import requests\n",
    "import json"
   ]
  },
  {
   "cell_type": "code",
   "execution_count": 3,
   "metadata": {},
   "outputs": [
    {
     "name": "stdout",
     "output_type": "stream",
     "text": [
      "{'statusCode': 200, 'body': '{\"predict_cancellation_booking\": \"There is no risk of cancellation\"}'}\n"
     ]
    }
   ],
   "source": [
    "# modify the event_data dictionary to test different inputs\n",
    "event_data = {\n",
    "    \"type_of_meal_plan\": \"meal_plan_1\",\n",
    "    \"room_type_reserved\": \"room_type_6\",\n",
    "    \"market_segment_type\": \"online\",\n",
    "    \"wday\": \"Wednesday\",\n",
    "    \"no_of_weekend_nights\": 1,\n",
    "    \"no_of_week_nights\": 1,\n",
    "    \"required_car_parking_space\": 0,\n",
    "    \"lead_time\": 31,\n",
    "    \"repeated_guest\": 0,\n",
    "    \"price_per_person\": 81,\n",
    "    \"avg_price_per_room\": 162.35,\n",
    "    \"no_of_special_requests\": 0,\n",
    "    \"total_nights\": 2,\n",
    "    \"arrival_month\": 6,\n",
    "    \"no_of_adults\": 2,\n",
    "    \"have_children\": 0\n",
    "}\n",
    "\n",
    "# Convert the dictionary into the required 'body' format for the Lambda event\n",
    "event = {\"body\": json.dumps(event_data)}\n",
    "\n",
    "# Define the URL for the Lambda API endpoint\n",
    "url = 'https://qjuy4kq6u5.execute-api.eu-west-1.amazonaws.com/test/predict'\n",
    "\n",
    "# Send the POST request with the event\n",
    "result = requests.post(url, json=event).json()\n",
    "\n",
    "# Print the result\n",
    "print(result)\n"
   ]
  }
 ],
 "metadata": {
  "kernelspec": {
   "display_name": "ml-zoomcamp39",
   "language": "python",
   "name": "python3"
  },
  "language_info": {
   "codemirror_mode": {
    "name": "ipython",
    "version": 3
   },
   "file_extension": ".py",
   "mimetype": "text/x-python",
   "name": "python",
   "nbconvert_exporter": "python",
   "pygments_lexer": "ipython3",
   "version": "3.9.16"
  }
 },
 "nbformat": 4,
 "nbformat_minor": 2
}
